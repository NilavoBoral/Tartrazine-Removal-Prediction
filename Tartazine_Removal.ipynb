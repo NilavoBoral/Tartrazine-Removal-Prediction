{
  "cells": [
    {
      "cell_type": "markdown",
      "metadata": {
        "id": "BQIjv6MvOEmI"
      },
      "source": [
        "# Import Data"
      ]
    },
    {
      "cell_type": "code",
      "execution_count": 1,
      "metadata": {
        "id": "SeNSnXlZMgrh"
      },
      "outputs": [],
      "source": [
        "import numpy as np\n",
        "import pandas as pd\n",
        "import matplotlib.pyplot as plt"
      ]
    },
    {
      "cell_type": "code",
      "execution_count": 2,
      "metadata": {
        "colab": {
          "base_uri": "https://localhost:8080/",
          "height": 267
        },
        "id": "7FX2wVhdNApw",
        "outputId": "cb9e49e8-eb9a-4c10-e904-4602a2a77df0"
      },
      "outputs": [
        {
          "data": {
            "text/html": [
              "\n",
              "  <div id=\"df-b76e18ad-65b9-459c-8f56-a84fce049b14\">\n",
              "    <div class=\"colab-df-container\">\n",
              "      <div>\n",
              "<style scoped>\n",
              "    .dataframe tbody tr th:only-of-type {\n",
              "        vertical-align: middle;\n",
              "    }\n",
              "\n",
              "    .dataframe tbody tr th {\n",
              "        vertical-align: top;\n",
              "    }\n",
              "\n",
              "    .dataframe thead th {\n",
              "        text-align: right;\n",
              "    }\n",
              "</style>\n",
              "<table border=\"1\" class=\"dataframe\">\n",
              "  <thead>\n",
              "    <tr style=\"text-align: right;\">\n",
              "      <th></th>\n",
              "      <th>conc(ppm)</th>\n",
              "      <th>ad_dose(g/L)</th>\n",
              "      <th>ph_value</th>\n",
              "      <th>temperature(⁰C)</th>\n",
              "      <th>time</th>\n",
              "      <th>absorbance</th>\n",
              "      <th>conc2(=absorbance/0.029)</th>\n",
              "      <th>removal(=30-conc2)</th>\n",
              "      <th>%removal(=removal*(100/30))</th>\n",
              "    </tr>\n",
              "  </thead>\n",
              "  <tbody>\n",
              "    <tr>\n",
              "      <th>0</th>\n",
              "      <td>10</td>\n",
              "      <td>1.0</td>\n",
              "      <td>6</td>\n",
              "      <td>30</td>\n",
              "      <td>15</td>\n",
              "      <td>0.0229</td>\n",
              "      <td>0.789655</td>\n",
              "      <td>29.210345</td>\n",
              "      <td>97.367816</td>\n",
              "    </tr>\n",
              "    <tr>\n",
              "      <th>1</th>\n",
              "      <td>10</td>\n",
              "      <td>1.0</td>\n",
              "      <td>6</td>\n",
              "      <td>30</td>\n",
              "      <td>30</td>\n",
              "      <td>0.0153</td>\n",
              "      <td>0.527586</td>\n",
              "      <td>29.472414</td>\n",
              "      <td>98.241379</td>\n",
              "    </tr>\n",
              "    <tr>\n",
              "      <th>2</th>\n",
              "      <td>10</td>\n",
              "      <td>1.0</td>\n",
              "      <td>6</td>\n",
              "      <td>30</td>\n",
              "      <td>45</td>\n",
              "      <td>0.0152</td>\n",
              "      <td>0.524138</td>\n",
              "      <td>29.475862</td>\n",
              "      <td>98.252874</td>\n",
              "    </tr>\n",
              "    <tr>\n",
              "      <th>3</th>\n",
              "      <td>10</td>\n",
              "      <td>1.0</td>\n",
              "      <td>6</td>\n",
              "      <td>30</td>\n",
              "      <td>60</td>\n",
              "      <td>0.0140</td>\n",
              "      <td>0.482759</td>\n",
              "      <td>29.517241</td>\n",
              "      <td>98.390805</td>\n",
              "    </tr>\n",
              "    <tr>\n",
              "      <th>4</th>\n",
              "      <td>10</td>\n",
              "      <td>1.0</td>\n",
              "      <td>6</td>\n",
              "      <td>30</td>\n",
              "      <td>120</td>\n",
              "      <td>0.0110</td>\n",
              "      <td>0.379310</td>\n",
              "      <td>29.620690</td>\n",
              "      <td>98.735632</td>\n",
              "    </tr>\n",
              "  </tbody>\n",
              "</table>\n",
              "</div>\n",
              "      <button class=\"colab-df-convert\" onclick=\"convertToInteractive('df-b76e18ad-65b9-459c-8f56-a84fce049b14')\"\n",
              "              title=\"Convert this dataframe to an interactive table.\"\n",
              "              style=\"display:none;\">\n",
              "        \n",
              "  <svg xmlns=\"http://www.w3.org/2000/svg\" height=\"24px\"viewBox=\"0 0 24 24\"\n",
              "       width=\"24px\">\n",
              "    <path d=\"M0 0h24v24H0V0z\" fill=\"none\"/>\n",
              "    <path d=\"M18.56 5.44l.94 2.06.94-2.06 2.06-.94-2.06-.94-.94-2.06-.94 2.06-2.06.94zm-11 1L8.5 8.5l.94-2.06 2.06-.94-2.06-.94L8.5 2.5l-.94 2.06-2.06.94zm10 10l.94 2.06.94-2.06 2.06-.94-2.06-.94-.94-2.06-.94 2.06-2.06.94z\"/><path d=\"M17.41 7.96l-1.37-1.37c-.4-.4-.92-.59-1.43-.59-.52 0-1.04.2-1.43.59L10.3 9.45l-7.72 7.72c-.78.78-.78 2.05 0 2.83L4 21.41c.39.39.9.59 1.41.59.51 0 1.02-.2 1.41-.59l7.78-7.78 2.81-2.81c.8-.78.8-2.07 0-2.86zM5.41 20L4 18.59l7.72-7.72 1.47 1.35L5.41 20z\"/>\n",
              "  </svg>\n",
              "      </button>\n",
              "      \n",
              "  <style>\n",
              "    .colab-df-container {\n",
              "      display:flex;\n",
              "      flex-wrap:wrap;\n",
              "      gap: 12px;\n",
              "    }\n",
              "\n",
              "    .colab-df-convert {\n",
              "      background-color: #E8F0FE;\n",
              "      border: none;\n",
              "      border-radius: 50%;\n",
              "      cursor: pointer;\n",
              "      display: none;\n",
              "      fill: #1967D2;\n",
              "      height: 32px;\n",
              "      padding: 0 0 0 0;\n",
              "      width: 32px;\n",
              "    }\n",
              "\n",
              "    .colab-df-convert:hover {\n",
              "      background-color: #E2EBFA;\n",
              "      box-shadow: 0px 1px 2px rgba(60, 64, 67, 0.3), 0px 1px 3px 1px rgba(60, 64, 67, 0.15);\n",
              "      fill: #174EA6;\n",
              "    }\n",
              "\n",
              "    [theme=dark] .colab-df-convert {\n",
              "      background-color: #3B4455;\n",
              "      fill: #D2E3FC;\n",
              "    }\n",
              "\n",
              "    [theme=dark] .colab-df-convert:hover {\n",
              "      background-color: #434B5C;\n",
              "      box-shadow: 0px 1px 3px 1px rgba(0, 0, 0, 0.15);\n",
              "      filter: drop-shadow(0px 1px 2px rgba(0, 0, 0, 0.3));\n",
              "      fill: #FFFFFF;\n",
              "    }\n",
              "  </style>\n",
              "\n",
              "      <script>\n",
              "        const buttonEl =\n",
              "          document.querySelector('#df-b76e18ad-65b9-459c-8f56-a84fce049b14 button.colab-df-convert');\n",
              "        buttonEl.style.display =\n",
              "          google.colab.kernel.accessAllowed ? 'block' : 'none';\n",
              "\n",
              "        async function convertToInteractive(key) {\n",
              "          const element = document.querySelector('#df-b76e18ad-65b9-459c-8f56-a84fce049b14');\n",
              "          const dataTable =\n",
              "            await google.colab.kernel.invokeFunction('convertToInteractive',\n",
              "                                                     [key], {});\n",
              "          if (!dataTable) return;\n",
              "\n",
              "          const docLinkHtml = 'Like what you see? Visit the ' +\n",
              "            '<a target=\"_blank\" href=https://colab.research.google.com/notebooks/data_table.ipynb>data table notebook</a>'\n",
              "            + ' to learn more about interactive tables.';\n",
              "          element.innerHTML = '';\n",
              "          dataTable['output_type'] = 'display_data';\n",
              "          await google.colab.output.renderOutput(dataTable, element);\n",
              "          const docLink = document.createElement('div');\n",
              "          docLink.innerHTML = docLinkHtml;\n",
              "          element.appendChild(docLink);\n",
              "        }\n",
              "      </script>\n",
              "    </div>\n",
              "  </div>\n",
              "  "
            ],
            "text/plain": [
              "   conc(ppm)  ad_dose(g/L)  ph_value  temperature(⁰C)  time  absorbance  \\\n",
              "0         10           1.0         6               30    15      0.0229   \n",
              "1         10           1.0         6               30    30      0.0153   \n",
              "2         10           1.0         6               30    45      0.0152   \n",
              "3         10           1.0         6               30    60      0.0140   \n",
              "4         10           1.0         6               30   120      0.0110   \n",
              "\n",
              "   conc2(=absorbance/0.029)  removal(=30-conc2)  %removal(=removal*(100/30))  \n",
              "0                  0.789655           29.210345                    97.367816  \n",
              "1                  0.527586           29.472414                    98.241379  \n",
              "2                  0.524138           29.475862                    98.252874  \n",
              "3                  0.482759           29.517241                    98.390805  \n",
              "4                  0.379310           29.620690                    98.735632  "
            ]
          },
          "execution_count": 2,
          "metadata": {},
          "output_type": "execute_result"
        }
      ],
      "source": [
        "df = pd.read_excel('/content/Tartazine_Removal_Final.xlsx')\n",
        "df.head()"
      ]
    },
    {
      "cell_type": "code",
      "execution_count": 3,
      "metadata": {
        "colab": {
          "base_uri": "https://localhost:8080/",
          "height": 223
        },
        "id": "VeF7qyoTNPjf",
        "outputId": "dcc50181-7959-4aea-9a88-d183751f9e16"
      },
      "outputs": [
        {
          "name": "stdout",
          "output_type": "stream",
          "text": [
            "(90, 6)\n"
          ]
        },
        {
          "data": {
            "text/html": [
              "\n",
              "  <div id=\"df-0e6d7b09-997b-4feb-94ab-d5c9c0b14234\">\n",
              "    <div class=\"colab-df-container\">\n",
              "      <div>\n",
              "<style scoped>\n",
              "    .dataframe tbody tr th:only-of-type {\n",
              "        vertical-align: middle;\n",
              "    }\n",
              "\n",
              "    .dataframe tbody tr th {\n",
              "        vertical-align: top;\n",
              "    }\n",
              "\n",
              "    .dataframe thead th {\n",
              "        text-align: right;\n",
              "    }\n",
              "</style>\n",
              "<table border=\"1\" class=\"dataframe\">\n",
              "  <thead>\n",
              "    <tr style=\"text-align: right;\">\n",
              "      <th></th>\n",
              "      <th>conc(ppm)</th>\n",
              "      <th>ad_dose(g/L)</th>\n",
              "      <th>ph_value</th>\n",
              "      <th>temperature(⁰C)</th>\n",
              "      <th>time</th>\n",
              "      <th>conc2(=absorbance/0.029)</th>\n",
              "    </tr>\n",
              "  </thead>\n",
              "  <tbody>\n",
              "    <tr>\n",
              "      <th>0</th>\n",
              "      <td>10</td>\n",
              "      <td>1.0</td>\n",
              "      <td>6</td>\n",
              "      <td>30</td>\n",
              "      <td>15</td>\n",
              "      <td>0.789655</td>\n",
              "    </tr>\n",
              "    <tr>\n",
              "      <th>1</th>\n",
              "      <td>10</td>\n",
              "      <td>1.0</td>\n",
              "      <td>6</td>\n",
              "      <td>30</td>\n",
              "      <td>30</td>\n",
              "      <td>0.527586</td>\n",
              "    </tr>\n",
              "    <tr>\n",
              "      <th>2</th>\n",
              "      <td>10</td>\n",
              "      <td>1.0</td>\n",
              "      <td>6</td>\n",
              "      <td>30</td>\n",
              "      <td>45</td>\n",
              "      <td>0.524138</td>\n",
              "    </tr>\n",
              "    <tr>\n",
              "      <th>3</th>\n",
              "      <td>10</td>\n",
              "      <td>1.0</td>\n",
              "      <td>6</td>\n",
              "      <td>30</td>\n",
              "      <td>60</td>\n",
              "      <td>0.482759</td>\n",
              "    </tr>\n",
              "    <tr>\n",
              "      <th>4</th>\n",
              "      <td>10</td>\n",
              "      <td>1.0</td>\n",
              "      <td>6</td>\n",
              "      <td>30</td>\n",
              "      <td>120</td>\n",
              "      <td>0.379310</td>\n",
              "    </tr>\n",
              "  </tbody>\n",
              "</table>\n",
              "</div>\n",
              "      <button class=\"colab-df-convert\" onclick=\"convertToInteractive('df-0e6d7b09-997b-4feb-94ab-d5c9c0b14234')\"\n",
              "              title=\"Convert this dataframe to an interactive table.\"\n",
              "              style=\"display:none;\">\n",
              "        \n",
              "  <svg xmlns=\"http://www.w3.org/2000/svg\" height=\"24px\"viewBox=\"0 0 24 24\"\n",
              "       width=\"24px\">\n",
              "    <path d=\"M0 0h24v24H0V0z\" fill=\"none\"/>\n",
              "    <path d=\"M18.56 5.44l.94 2.06.94-2.06 2.06-.94-2.06-.94-.94-2.06-.94 2.06-2.06.94zm-11 1L8.5 8.5l.94-2.06 2.06-.94-2.06-.94L8.5 2.5l-.94 2.06-2.06.94zm10 10l.94 2.06.94-2.06 2.06-.94-2.06-.94-.94-2.06-.94 2.06-2.06.94z\"/><path d=\"M17.41 7.96l-1.37-1.37c-.4-.4-.92-.59-1.43-.59-.52 0-1.04.2-1.43.59L10.3 9.45l-7.72 7.72c-.78.78-.78 2.05 0 2.83L4 21.41c.39.39.9.59 1.41.59.51 0 1.02-.2 1.41-.59l7.78-7.78 2.81-2.81c.8-.78.8-2.07 0-2.86zM5.41 20L4 18.59l7.72-7.72 1.47 1.35L5.41 20z\"/>\n",
              "  </svg>\n",
              "      </button>\n",
              "      \n",
              "  <style>\n",
              "    .colab-df-container {\n",
              "      display:flex;\n",
              "      flex-wrap:wrap;\n",
              "      gap: 12px;\n",
              "    }\n",
              "\n",
              "    .colab-df-convert {\n",
              "      background-color: #E8F0FE;\n",
              "      border: none;\n",
              "      border-radius: 50%;\n",
              "      cursor: pointer;\n",
              "      display: none;\n",
              "      fill: #1967D2;\n",
              "      height: 32px;\n",
              "      padding: 0 0 0 0;\n",
              "      width: 32px;\n",
              "    }\n",
              "\n",
              "    .colab-df-convert:hover {\n",
              "      background-color: #E2EBFA;\n",
              "      box-shadow: 0px 1px 2px rgba(60, 64, 67, 0.3), 0px 1px 3px 1px rgba(60, 64, 67, 0.15);\n",
              "      fill: #174EA6;\n",
              "    }\n",
              "\n",
              "    [theme=dark] .colab-df-convert {\n",
              "      background-color: #3B4455;\n",
              "      fill: #D2E3FC;\n",
              "    }\n",
              "\n",
              "    [theme=dark] .colab-df-convert:hover {\n",
              "      background-color: #434B5C;\n",
              "      box-shadow: 0px 1px 3px 1px rgba(0, 0, 0, 0.15);\n",
              "      filter: drop-shadow(0px 1px 2px rgba(0, 0, 0, 0.3));\n",
              "      fill: #FFFFFF;\n",
              "    }\n",
              "  </style>\n",
              "\n",
              "      <script>\n",
              "        const buttonEl =\n",
              "          document.querySelector('#df-0e6d7b09-997b-4feb-94ab-d5c9c0b14234 button.colab-df-convert');\n",
              "        buttonEl.style.display =\n",
              "          google.colab.kernel.accessAllowed ? 'block' : 'none';\n",
              "\n",
              "        async function convertToInteractive(key) {\n",
              "          const element = document.querySelector('#df-0e6d7b09-997b-4feb-94ab-d5c9c0b14234');\n",
              "          const dataTable =\n",
              "            await google.colab.kernel.invokeFunction('convertToInteractive',\n",
              "                                                     [key], {});\n",
              "          if (!dataTable) return;\n",
              "\n",
              "          const docLinkHtml = 'Like what you see? Visit the ' +\n",
              "            '<a target=\"_blank\" href=https://colab.research.google.com/notebooks/data_table.ipynb>data table notebook</a>'\n",
              "            + ' to learn more about interactive tables.';\n",
              "          element.innerHTML = '';\n",
              "          dataTable['output_type'] = 'display_data';\n",
              "          await google.colab.output.renderOutput(dataTable, element);\n",
              "          const docLink = document.createElement('div');\n",
              "          docLink.innerHTML = docLinkHtml;\n",
              "          element.appendChild(docLink);\n",
              "        }\n",
              "      </script>\n",
              "    </div>\n",
              "  </div>\n",
              "  "
            ],
            "text/plain": [
              "   conc(ppm)  ad_dose(g/L)  ph_value  temperature(⁰C)  time  \\\n",
              "0         10           1.0         6               30    15   \n",
              "1         10           1.0         6               30    30   \n",
              "2         10           1.0         6               30    45   \n",
              "3         10           1.0         6               30    60   \n",
              "4         10           1.0         6               30   120   \n",
              "\n",
              "   conc2(=absorbance/0.029)  \n",
              "0                  0.789655  \n",
              "1                  0.527586  \n",
              "2                  0.524138  \n",
              "3                  0.482759  \n",
              "4                  0.379310  "
            ]
          },
          "execution_count": 3,
          "metadata": {},
          "output_type": "execute_result"
        }
      ],
      "source": [
        "# removing similar columns (which can simply calculated mathematically)\n",
        "\n",
        "df = df.drop(columns=['removal(=30-conc2)', '%removal(=removal*(100/30))', 'absorbance'])\n",
        "print(df.shape)\n",
        "df.head()"
      ]
    },
    {
      "cell_type": "code",
      "execution_count": 4,
      "metadata": {
        "id": "j1YrZUwEzPT4"
      },
      "outputs": [],
      "source": [
        "# feature columns\n",
        "x_df = df.drop(columns='conc2(=absorbance/0.029)')\n",
        "\n",
        "# target column\n",
        "y_df = df['conc2(=absorbance/0.029)']"
      ]
    },
    {
      "cell_type": "code",
      "execution_count": 5,
      "metadata": {
        "id": "pPn77dYQ8sVE"
      },
      "outputs": [],
      "source": [
        "# Feature scaling\n",
        "from sklearn.preprocessing import MinMaxScaler\n",
        "mms = MinMaxScaler()\n",
        "\n",
        "x_df_scaled = mms.fit_transform(x_df)"
      ]
    },
    {
      "cell_type": "code",
      "execution_count": 6,
      "metadata": {
        "id": "ZnqShe9B0Bol"
      },
      "outputs": [],
      "source": [
        "# split the data into train & test set\n",
        "\n",
        "from sklearn.model_selection import train_test_split as tts\n",
        "x_train, x_test, y_train, y_test = tts(x_df_scaled, y_df, test_size=0.1, random_state=10)"
      ]
    },
    {
      "cell_type": "markdown",
      "metadata": {
        "id": "NwLcmhq0kQqf"
      },
      "source": [
        "# Machine Learning"
      ]
    },
    {
      "cell_type": "code",
      "execution_count": 7,
      "metadata": {
        "id": "eKs99K49kYSq"
      },
      "outputs": [],
      "source": [
        "from sklearn.linear_model import LinearRegression\n",
        "from sklearn.neighbors import KNeighborsRegressor\n",
        "from sklearn.svm import SVR\n",
        "from sklearn.tree import DecisionTreeRegressor\n",
        "from sklearn.ensemble import BaggingRegressor, RandomForestRegressor, ExtraTreesRegressor, GradientBoostingRegressor, AdaBoostRegressor\n",
        "\n",
        "from sklearn.metrics import r2_score as r2\n",
        "from sklearn.metrics import mean_absolute_error as mae"
      ]
    },
    {
      "cell_type": "code",
      "execution_count": 8,
      "metadata": {
        "id": "2XIOVgnjkYQA"
      },
      "outputs": [],
      "source": [
        "lin = LinearRegression()\n",
        "knn = KNeighborsRegressor()\n",
        "svr = SVR()\n",
        "tree = DecisionTreeRegressor(random_state=0)\n",
        "bag = BaggingRegressor(DecisionTreeRegressor(random_state=0), random_state=0)\n",
        "forest = RandomForestRegressor(random_state=0)\n",
        "grad = GradientBoostingRegressor(random_state=0)\n",
        "ada = AdaBoostRegressor(DecisionTreeRegressor(random_state=0),random_state=0)"
      ]
    },
    {
      "cell_type": "code",
      "execution_count": 9,
      "metadata": {
        "id": "_1C74DcNkYNN"
      },
      "outputs": [],
      "source": [
        "MAE = []\n",
        "R2 = []\n",
        "for i in (lin, knn, svr, tree, bag, forest, grad, ada):\n",
        "  i.fit(x_train, y_train)\n",
        "  y_pred = i.predict(x_test)\n",
        "  \n",
        "  R2.append(r2(y_test, y_pred))\n",
        "  MAE.append(mae(y_test, y_pred))"
      ]
    },
    {
      "cell_type": "code",
      "execution_count": 10,
      "metadata": {
        "colab": {
          "base_uri": "https://localhost:8080/",
          "height": 393
        },
        "id": "AOLodZVDmHfh",
        "outputId": "1971573e-dbeb-4ed4-facf-70cc95b29709"
      },
      "outputs": [
        {
          "data": {
            "image/png": "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",
            "text/plain": [
              "<Figure size 576x360 with 1 Axes>"
            ]
          },
          "metadata": {
            "needs_background": "light"
          },
          "output_type": "display_data"
        }
      ],
      "source": [
        "# cheking mean_absolute_error calculated by some ML Algorithms\n",
        "\n",
        "pd.Series(MAE, index=('LR', 'KNN', 'SVR', 'Decision-tree', 'Bagging', 'Random-forest', 'Gradient-Boosting', 'Ada-Boost')).plot(grid=True, figsize=(8,5))\n",
        "plt.xticks(rotation = 60)\n",
        "plt.ylabel('MAE')\n",
        "plt.show()"
      ]
    },
    {
      "cell_type": "code",
      "execution_count": 11,
      "metadata": {
        "colab": {
          "base_uri": "https://localhost:8080/"
        },
        "id": "_-cBRMTdmPOk",
        "outputId": "18834285-8c86-4151-b935-5f1d64abb692"
      },
      "outputs": [
        {
          "data": {
            "text/plain": [
              "[2.651351711013849,\n",
              " 1.1625287356321838,\n",
              " 1.3327024387777022,\n",
              " 1.6882503192848022,\n",
              " 1.8402041142127348,\n",
              " 1.81312207474305,\n",
              " 1.4427008490651811,\n",
              " 1.687547892720306]"
            ]
          },
          "execution_count": 11,
          "metadata": {},
          "output_type": "execute_result"
        }
      ],
      "source": [
        "MAE"
      ]
    },
    {
      "cell_type": "code",
      "execution_count": 12,
      "metadata": {
        "colab": {
          "base_uri": "https://localhost:8080/",
          "height": 395
        },
        "id": "-HxM9njekYLB",
        "outputId": "badd8e83-0d64-4c2c-f293-28f3277ca889"
      },
      "outputs": [
        {
          "data": {
            "image/png": "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",
            "text/plain": [
              "<Figure size 576x360 with 1 Axes>"
            ]
          },
          "metadata": {
            "needs_background": "light"
          },
          "output_type": "display_data"
        }
      ],
      "source": [
        "# cheking r2_score calculated by some ML Algorithms\n",
        "\n",
        "pd.Series(R2, index=('LR', 'KNN', 'SVR', 'Decision-tree', 'Bagging', 'Random-forest', 'Gradient-Boosting', 'Ada-Boost')).plot(grid=True, figsize=(8,5))\n",
        "plt.xticks(rotation = 60)\n",
        "plt.ylabel('R2')\n",
        "plt.show()"
      ]
    },
    {
      "cell_type": "code",
      "execution_count": 13,
      "metadata": {
        "colab": {
          "base_uri": "https://localhost:8080/"
        },
        "id": "T3MqtuDslx5p",
        "outputId": "4b2d1ea2-72ce-4448-e517-ab8660457483"
      },
      "outputs": [
        {
          "data": {
            "text/plain": [
              "[0.0474262652989923,\n",
              " 0.7688413527068171,\n",
              " 0.3439996971568996,\n",
              " 0.2670090418104609,\n",
              " 0.15682924869879045,\n",
              " 0.032591433615752785,\n",
              " 0.49371061971236363,\n",
              " 0.26724227852207705]"
            ]
          },
          "execution_count": 13,
          "metadata": {},
          "output_type": "execute_result"
        }
      ],
      "source": [
        "R2"
      ]
    },
    {
      "cell_type": "code",
      "execution_count": 14,
      "metadata": {
        "colab": {
          "base_uri": "https://localhost:8080/"
        },
        "id": "_2fE6Y6IlziN",
        "outputId": "d183120f-14b0-40d9-c2ae-9c332a0f44d0"
      },
      "outputs": [
        {
          "data": {
            "text/plain": [
              "0.7688413527068171"
            ]
          },
          "execution_count": 14,
          "metadata": {},
          "output_type": "execute_result"
        }
      ],
      "source": [
        "max(R2)"
      ]
    },
    {
      "cell_type": "markdown",
      "metadata": {
        "id": "fzVOGVNAl5mz"
      },
      "source": [
        "Here, I can easily see, KNN gives best r2 score and lowest MAE."
      ]
    },
    {
      "cell_type": "markdown",
      "metadata": {
        "id": "MbdQfz1IQb4b"
      },
      "source": [
        "## KNN model's parameter tuning"
      ]
    },
    {
      "cell_type": "code",
      "execution_count": 15,
      "metadata": {
        "id": "4EcOzqwzpmTz"
      },
      "outputs": [],
      "source": [
        "e = []\n",
        "for i in np.arange(1,11):   \n",
        "  knn = KNeighborsRegressor(n_neighbors = i)\n",
        "  knn.fit(x_train, y_train)\n",
        "  y_pred = knn.predict(x_test)\n",
        "\n",
        "  e.append(r2(y_test, y_pred))"
      ]
    },
    {
      "cell_type": "code",
      "execution_count": 16,
      "metadata": {
        "colab": {
          "base_uri": "https://localhost:8080/",
          "height": 338
        },
        "id": "XVgDHJIOqXn9",
        "outputId": "24e1d199-b9c9-4473-8d1c-bfd0452ebfde"
      },
      "outputs": [
        {
          "data": {
            "image/png": "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",
            "text/plain": [
              "<Figure size 576x360 with 1 Axes>"
            ]
          },
          "metadata": {
            "needs_background": "light"
          },
          "output_type": "display_data"
        }
      ],
      "source": [
        "pd.Series(e, index=np.arange(1,11)).plot(grid= True, figsize=(8,5))\n",
        "plt.xlabel('n_neighbors')\n",
        "plt.ylabel('R2')\n",
        "plt.show()"
      ]
    },
    {
      "cell_type": "code",
      "execution_count": 17,
      "metadata": {
        "colab": {
          "base_uri": "https://localhost:8080/"
        },
        "id": "QMx4M4egmsoI",
        "outputId": "48a4f3c7-6b4e-480c-b8e4-f3d7d611ae53"
      },
      "outputs": [
        {
          "name": "stdout",
          "output_type": "stream",
          "text": [
            "R2 : 0.9753892492740357\n",
            "MAE : 0.4563218390804599\n"
          ]
        }
      ],
      "source": [
        "# knn gives highest R2 score at n_neighbors=3\n",
        "knn = KNeighborsRegressor(n_neighbors = 3)\n",
        "\n",
        "knn.fit(x_train, y_train)\n",
        "y_pred = knn.predict(x_test)\n",
        "\n",
        "print('R2 :', r2(y_test, y_pred))\n",
        "print('MAE :', mae(y_test, y_pred))"
      ]
    },
    {
      "cell_type": "code",
      "execution_count": 18,
      "metadata": {
        "colab": {
          "base_uri": "https://localhost:8080/"
        },
        "id": "M_7K4TK7nD48",
        "outputId": "c71a5b85-a7e9-4f93-d50c-01c994531311"
      },
      "outputs": [
        {
          "data": {
            "text/plain": [
              "[91.11494252873564,\n",
              " 57.6551724137931,\n",
              " 98.39080459770115,\n",
              " 96.88505747126437,\n",
              " 88.95402298850576,\n",
              " 98.0,\n",
              " 97.816091954023,\n",
              " 98.48275862068965,\n",
              " 98.65517241379311]"
            ]
          },
          "execution_count": 18,
          "metadata": {},
          "output_type": "execute_result"
        }
      ],
      "source": [
        "# calculate actual '%removal'\n",
        "testt = []\n",
        "for i in y_test:\n",
        "  testt.append((30-i)*(100/30))\n",
        "testt"
      ]
    },
    {
      "cell_type": "code",
      "execution_count": 19,
      "metadata": {
        "colab": {
          "base_uri": "https://localhost:8080/"
        },
        "id": "hnPjNuJynIYg",
        "outputId": "ec48d8a4-656c-4d25-fe06-9f3e665ecf94"
      },
      "outputs": [
        {
          "data": {
            "text/plain": [
              "[94.36781609195403,\n",
              " 55.39463601532567,\n",
              " 98.37164750957855,\n",
              " 93.97318007662835,\n",
              " 86.00766283524904,\n",
              " 98.09578544061303,\n",
              " 97.45977011494253,\n",
              " 97.62452107279694,\n",
              " 97.66666666666667]"
            ]
          },
          "execution_count": 19,
          "metadata": {},
          "output_type": "execute_result"
        }
      ],
      "source": [
        "# calculate ML model predicted '%removal'\n",
        "predd = []\n",
        "for i in y_pred:\n",
        "  predd.append((30-i)*(100/30))\n",
        "predd"
      ]
    },
    {
      "cell_type": "code",
      "execution_count": 20,
      "metadata": {
        "colab": {
          "base_uri": "https://localhost:8080/"
        },
        "id": "2ZqzzRyFnk1p",
        "outputId": "e3312774-d9a4-428e-b938-9c23956f8ea5"
      },
      "outputs": [
        {
          "name": "stdout",
          "output_type": "stream",
          "text": [
            "percent removal error : 1.5210727969348667\n"
          ]
        }
      ],
      "source": [
        "# compare actual and predicted '%removal'\n",
        "\n",
        "print('percent removal error :', mae(testt, predd))"
      ]
    },
    {
      "cell_type": "code",
      "execution_count": 21,
      "metadata": {
        "id": "LGpJFsrUTagm"
      },
      "outputs": [],
      "source": [
        "# save best ML model for further prediction\n",
        "import pickle\n",
        "\n",
        "pickle.dump(knn,open('Nilavo_ML.pkl','wb'))"
      ]
    },
    {
      "cell_type": "markdown",
      "metadata": {
        "id": "YSJfotxWkNok"
      },
      "source": [
        "# Deep Learning\n",
        "\n",
        "ANN"
      ]
    },
    {
      "cell_type": "code",
      "execution_count": null,
      "metadata": {
        "id": "hImbril5OjyC"
      },
      "outputs": [],
      "source": [
        "pip install keras-tuner"
      ]
    },
    {
      "cell_type": "code",
      "execution_count": 23,
      "metadata": {
        "colab": {
          "base_uri": "https://localhost:8080/"
        },
        "id": "yqOnY-o9NzWU",
        "outputId": "3292f59c-b546-441d-d8f2-f4a47bbe76a9"
      },
      "outputs": [
        {
          "name": "stderr",
          "output_type": "stream",
          "text": [
            "/usr/local/lib/python3.7/dist-packages/ipykernel_launcher.py:7: DeprecationWarning: `import kerastuner` is deprecated, please use `import keras_tuner`.\n",
            "  import sys\n"
          ]
        }
      ],
      "source": [
        "import tensorflow as tf\n",
        "from tensorflow.keras.models import Sequential\n",
        "from tensorflow.keras.layers import Dense, Dropout\n",
        "from tensorflow.keras.optimizers import Adam\n",
        "\n",
        "import keras_tuner\n",
        "from kerastuner.tuners import RandomSearch"
      ]
    },
    {
      "cell_type": "code",
      "execution_count": 36,
      "metadata": {
        "id": "-QQEp7cLOr2v"
      },
      "outputs": [],
      "source": [
        "# building model\n",
        "\n",
        "def build_model(hp):\n",
        "    model = Sequential()\n",
        "    model.add(Dense(units= hp.Int('n', min_value=16, max_value=512, step=16), activation= 'relu', input_dim= x_train.shape[1]))\n",
        "    for i in range(hp.Int('hidden_layers', min_value=1, max_value=3)):\n",
        "        model.add(Dense(units= hp.Int('neurons'+str(i), min_value=16, max_value=256, step=16), activation= 'relu'))\n",
        "    model.add(Dense(units=1, activation='linear'))\n",
        "              \n",
        "    model.compile(optimizer = Adam(learning_rate = hp.Choice('lr', [1e-2, 1e-3, 1e-4])), loss = 'mean_absolute_error', metrics = ['mean_absolute_error'])\n",
        "    return model"
      ]
    },
    {
      "cell_type": "code",
      "execution_count": 37,
      "metadata": {
        "id": "2GE8pXXxxVk0"
      },
      "outputs": [],
      "source": [
        "tuner = RandomSearch(build_model, objective='val_mean_absolute_error', max_trials=10, executions_per_trial=3, directory='output', project_name='tartazine_removal')"
      ]
    },
    {
      "cell_type": "code",
      "execution_count": 38,
      "metadata": {
        "colab": {
          "base_uri": "https://localhost:8080/"
        },
        "id": "Bv9yy6YAzIYB",
        "outputId": "fdf86bdc-4d9a-46f3-8443-d7a630cd037d"
      },
      "outputs": [
        {
          "name": "stdout",
          "output_type": "stream",
          "text": [
            "Trial 10 Complete [00h 00m 06s]\n",
            "val_mean_absolute_error: 0.8269756237665812\n",
            "\n",
            "Best val_mean_absolute_error So Far: 0.4338843723138173\n",
            "Total elapsed time: 00h 01m 12s\n",
            "INFO:tensorflow:Oracle triggered exit\n"
          ]
        }
      ],
      "source": [
        "# search best model\n",
        "tuner.search(x_train, y_train, epochs=20, validation_data=(x_test,y_test))"
      ]
    },
    {
      "cell_type": "code",
      "execution_count": 39,
      "metadata": {
        "id": "XbgBUgY600VW"
      },
      "outputs": [],
      "source": [
        "best_model = tuner.get_best_models(num_models=1)[0]"
      ]
    },
    {
      "cell_type": "code",
      "execution_count": 40,
      "metadata": {
        "colab": {
          "base_uri": "https://localhost:8080/"
        },
        "id": "3pPV4Wr_04PY",
        "outputId": "5a1e6b69-f59a-4ef9-8028-4176f23ec02b"
      },
      "outputs": [
        {
          "name": "stdout",
          "output_type": "stream",
          "text": [
            "Model: \"sequential\"\n",
            "_________________________________________________________________\n",
            " Layer (type)                Output Shape              Param #   \n",
            "=================================================================\n",
            " dense (Dense)               (None, 512)               3072      \n",
            "                                                                 \n",
            " dense_1 (Dense)             (None, 144)               73872     \n",
            "                                                                 \n",
            " dense_2 (Dense)             (None, 224)               32480     \n",
            "                                                                 \n",
            " dense_3 (Dense)             (None, 144)               32400     \n",
            "                                                                 \n",
            " dense_4 (Dense)             (None, 1)                 145       \n",
            "                                                                 \n",
            "=================================================================\n",
            "Total params: 141,969\n",
            "Trainable params: 141,969\n",
            "Non-trainable params: 0\n",
            "_________________________________________________________________\n"
          ]
        }
      ],
      "source": [
        "# my DL model's details\n",
        "best_model.summary()"
      ]
    },
    {
      "cell_type": "code",
      "execution_count": 41,
      "metadata": {
        "id": "jLird46k1wWf"
      },
      "outputs": [],
      "source": [
        "# making prediction\n",
        "\n",
        "y_pred = best_model.predict(x_test)"
      ]
    },
    {
      "cell_type": "code",
      "execution_count": 42,
      "metadata": {
        "colab": {
          "base_uri": "https://localhost:8080/",
          "height": 280
        },
        "id": "fKzLD8tIOTUF",
        "outputId": "39f3475c-4c36-41a2-fdcc-3c3585397c88"
      },
      "outputs": [
        {
          "data": {
            "image/png": "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",
            "text/plain": [
              "<Figure size 432x288 with 1 Axes>"
            ]
          },
          "metadata": {
            "needs_background": "light"
          },
          "output_type": "display_data"
        }
      ],
      "source": [
        "# plot actual conc vs predicted conc\n",
        "\n",
        "import matplotlib.pyplot as plt\n",
        "\n",
        "plt.scatter(y_test, y_pred)\n",
        "plt.xlabel('y_test')\n",
        "plt.ylabel('y_pred')\n",
        "plt.show()"
      ]
    },
    {
      "cell_type": "code",
      "execution_count": 43,
      "metadata": {
        "colab": {
          "base_uri": "https://localhost:8080/"
        },
        "id": "kzmnNP9-OQzP",
        "outputId": "c7666aac-a664-4b94-ff16-98c85dcaba0c"
      },
      "outputs": [
        {
          "name": "stdout",
          "output_type": "stream",
          "text": [
            "R2 : 0.9707255406950166\n",
            "MAE : 0.4159768976699346\n"
          ]
        }
      ],
      "source": [
        "# statistical results of Deep Learning model predicted conc\n",
        "print('R2 :', r2(y_test, y_pred))\n",
        "print('MAE :', mae(y_test, y_pred))"
      ]
    },
    {
      "cell_type": "code",
      "execution_count": 44,
      "metadata": {
        "colab": {
          "base_uri": "https://localhost:8080/"
        },
        "id": "3GYkhKZbSZVM",
        "outputId": "255f6097-bf51-4dda-8bca-a2415f59096a"
      },
      "outputs": [
        {
          "data": {
            "text/plain": [
              "[91.11494252873564,\n",
              " 57.6551724137931,\n",
              " 98.39080459770115,\n",
              " 96.88505747126437,\n",
              " 88.95402298850576,\n",
              " 98.0,\n",
              " 97.816091954023,\n",
              " 98.48275862068965,\n",
              " 98.65517241379311]"
            ]
          },
          "execution_count": 44,
          "metadata": {},
          "output_type": "execute_result"
        }
      ],
      "source": [
        "# calculate actual '%removal'\n",
        "testt = []\n",
        "for i in y_test:\n",
        "  testt.append((30-i)*(100/30))\n",
        "testt"
      ]
    },
    {
      "cell_type": "code",
      "execution_count": 45,
      "metadata": {
        "colab": {
          "base_uri": "https://localhost:8080/"
        },
        "id": "TKTcUgQXTHNc",
        "outputId": "b6a2a50d-fa97-453e-81e9-d5a3219c5a8e"
      },
      "outputs": [
        {
          "data": {
            "text/plain": [
              "[96.41557733217876,\n",
              " 60.59274355570476,\n",
              " 98.25679282347362,\n",
              " 97.18856751918793,\n",
              " 87.738889058431,\n",
              " 98.45084190368652,\n",
              " 98.02485505739848,\n",
              " 96.86348676681519,\n",
              " 98.34560404221217]"
            ]
          },
          "execution_count": 45,
          "metadata": {},
          "output_type": "execute_result"
        }
      ],
      "source": [
        "# calculate DL model predicted '%removal'\n",
        "predd = []\n",
        "for i in y_pred:\n",
        "  predd.append((30-i[0])*(100/30))\n",
        "predd"
      ]
    },
    {
      "cell_type": "code",
      "execution_count": 46,
      "metadata": {
        "colab": {
          "base_uri": "https://localhost:8080/"
        },
        "id": "0lwLtFYaUAvm",
        "outputId": "d25fde3d-94c0-4984-fc2d-e073a0dde037"
      },
      "outputs": [
        {
          "name": "stdout",
          "output_type": "stream",
          "text": [
            "percent removal error : 1.3865896588997808\n"
          ]
        }
      ],
      "source": [
        "# compare actual and predicted '%removal'\n",
        "from sklearn.metrics import mean_absolute_error as mae\n",
        "print('percent removal error :', mae(testt, predd))"
      ]
    },
    {
      "cell_type": "code",
      "execution_count": 47,
      "metadata": {
        "colab": {
          "base_uri": "https://localhost:8080/"
        },
        "id": "dQZjSrg1Tspq",
        "outputId": "f3bdd3f4-68d2-4563-cec6-aad34a402360"
      },
      "outputs": [
        {
          "name": "stdout",
          "output_type": "stream",
          "text": [
            "INFO:tensorflow:Assets written to: ram://a7d2ef01-7712-4069-a20b-6e77e103fde0/assets\n"
          ]
        }
      ],
      "source": [
        "# save best DL model for further prediction\n",
        "import pickle\n",
        "\n",
        "pickle.dump(best_model,open('Nilavo_DL.pkl','wb'))"
      ]
    },
    {
      "cell_type": "markdown",
      "metadata": {
        "id": "JcpzrP1SaUiT"
      },
      "source": [
        "# Checking Machine Learning (KNN) & Deep Learning (ANN) models performance."
      ]
    },
    {
      "cell_type": "code",
      "execution_count": 48,
      "metadata": {
        "id": "-h89GEQpW285"
      },
      "outputs": [],
      "source": [
        "###  Models      Saved as        R2      MAE(Conc2)   MAE(%removal)  ###\n",
        "\n",
        "#    ML(KNN)     Nilavo_ML     0.9753      0.4563      1.5210  \n",
        "#    DL(ANN)     Nilavo_DL     0.9707      0.4159      1.3865"
      ]
    },
    {
      "cell_type": "markdown",
      "metadata": {
        "id": "aSlWEBpDavoH"
      },
      "source": [
        "ANN model's mean-absolute-error is low. So, I think this is the best model for further prediction."
      ]
    },
  "metadata": {
    "accelerator": "GPU",
    "colab": {
      "collapsed_sections": [],
      "name": "Tartazine_Removal.ipynb",
      "provenance": []
    },
    "kernelspec": {
      "display_name": "Python 3",
      "name": "python3"
    },
    "language_info": {
      "name": "python"
    }
  },
  "nbformat": 4,
  "nbformat_minor": 0
}
